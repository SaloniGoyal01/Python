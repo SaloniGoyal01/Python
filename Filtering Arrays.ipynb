{
 "cells": [
  {
   "cell_type": "markdown",
   "id": "b2e06b08",
   "metadata": {},
   "source": [
    "# Filtering Arrays\n",
    "###  Getting some elements out of an existing array and creating a new array out of them is called filtering.\n",
    "###  In NumPy, you filter an array using a boolean index list."
   ]
  },
  {
   "cell_type": "markdown",
   "id": "5a36816c",
   "metadata": {},
   "source": [
    "### If the value at an index is True that element is contained in the filtered array, if the value at that index is False that element is excluded from the filtered array."
   ]
  },
  {
   "cell_type": "code",
   "execution_count": 1,
   "id": "62018ba0",
   "metadata": {},
   "outputs": [
    {
     "name": "stdout",
     "output_type": "stream",
     "text": [
      "[1 3]\n"
     ]
    }
   ],
   "source": [
    "import numpy as np\n",
    "\n",
    "#  Create an array from the elements on index 0 and 2:\n",
    "\n",
    "arr = np.array([1,2,3,4])\n",
    "x = arr[[True, False, True, False]]\n",
    "print(x)"
   ]
  },
  {
   "cell_type": "markdown",
   "id": "d95ddca8",
   "metadata": {},
   "source": [
    "### Creating the Filter Array"
   ]
  },
  {
   "cell_type": "code",
   "execution_count": 2,
   "id": "280699f1",
   "metadata": {},
   "outputs": [
    {
     "name": "stdout",
     "output_type": "stream",
     "text": [
      "[False, False, False, True, True, True, True]\n",
      "[41 42 43 44]\n"
     ]
    }
   ],
   "source": [
    "#  Create a filter array that will return only values higher than 40:\n",
    "\n",
    "arr = np.array([38,39,40,41,42,43,44])\n",
    "\n",
    "# Initialize an empty list to store the filter (boolean) values\n",
    "filter_arr = []\n",
    "\n",
    "# Loop through each element in the array\n",
    "for element in arr:\n",
    "    if element > 40:\n",
    "        filter_arr.append(True)\n",
    "# append() is used to store/save the value (True or False) in a list (filter_arr) for later use.\n",
    "# If you use print(), it will just display on the console, but nothing gets stored — so you can't use it later to filter the array.\n",
    "\n",
    "    else:\n",
    "        filter_arr.append(False)\n",
    "\n",
    "# Apply the boolean filter to the original array to get values > 40\n",
    "newarr = arr[filter_arr]\n",
    "\n",
    "# Print the boolean filter array\n",
    "print(filter_arr)  \n",
    "\n",
    "# Print the filtered array (values greater than 40)\n",
    "print(newarr)\n"
   ]
  },
  {
   "cell_type": "code",
   "execution_count": 3,
   "id": "7d874bf7",
   "metadata": {},
   "outputs": [
    {
     "name": "stdout",
     "output_type": "stream",
     "text": [
      "[False, True, False, True, False, True, False, True, False, True]\n",
      "[ 2  4  6  8 10]\n"
     ]
    }
   ],
   "source": [
    "#   Create a filter array that will return only even elements from the original array:\n",
    "\n",
    "arr = np.array([1,2,3,4,5,6,7,8,9,10])\n",
    "filter_arr = []\n",
    "for x in arr :\n",
    "    if x % 2 == 0:\n",
    "        filter_arr.append(True)\n",
    "    else :\n",
    "        filter_arr.append(False)\n",
    "\n",
    "newarr = arr[filter_arr]\n",
    "print(filter_arr)\n",
    "print(newarr)"
   ]
  },
  {
   "cell_type": "markdown",
   "id": "85d68604",
   "metadata": {},
   "source": [
    "###  Creating Filter Directly From Array"
   ]
  },
  {
   "cell_type": "code",
   "execution_count": 5,
   "id": "026c8156",
   "metadata": {},
   "outputs": [
    {
     "name": "stdout",
     "output_type": "stream",
     "text": [
      "[False False False  True  True  True  True]\n",
      "[41 42 43 44]\n"
     ]
    }
   ],
   "source": [
    "#  Create a filter array that will return only values higher than 40:\n",
    "\n",
    "arr = np.array([38,39,40,41,42,43,44])\n",
    "filter_arr = arr > 40\n",
    "newarr = arr[filter_arr]\n",
    "print(filter_arr)\n",
    "print(newarr)"
   ]
  },
  {
   "cell_type": "code",
   "execution_count": 7,
   "id": "79346453",
   "metadata": {},
   "outputs": [
    {
     "name": "stdout",
     "output_type": "stream",
     "text": [
      "[False  True False  True False  True False  True False  True]\n",
      "[ 2  4  6  8 10]\n"
     ]
    }
   ],
   "source": [
    "#   Create a filter array that will return only even elements from the original array:\n",
    "\n",
    "arr = np.array([1,2,3,4,5,6,7,8,9,10])\n",
    "filter_arr = arr % 2 == 0\n",
    "newarr = arr[filter_arr]\n",
    "print(filter_arr)\n",
    "print(newarr)"
   ]
  }
 ],
 "metadata": {
  "kernelspec": {
   "display_name": "env",
   "language": "python",
   "name": "python3"
  },
  "language_info": {
   "codemirror_mode": {
    "name": "ipython",
    "version": 3
   },
   "file_extension": ".py",
   "mimetype": "text/x-python",
   "name": "python",
   "nbconvert_exporter": "python",
   "pygments_lexer": "ipython3",
   "version": "3.10.0"
  }
 },
 "nbformat": 4,
 "nbformat_minor": 5
}
