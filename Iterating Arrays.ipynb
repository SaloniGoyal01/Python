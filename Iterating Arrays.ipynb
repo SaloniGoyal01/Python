{
 "cells": [
  {
   "cell_type": "markdown",
   "id": "3960c542",
   "metadata": {},
   "source": [
    "# Iterating Arrays\n",
    "### Iterating means going through elements one by one."
   ]
  },
  {
   "cell_type": "code",
   "execution_count": null,
   "id": "8c12f0ac",
   "metadata": {},
   "outputs": [
    {
     "name": "stdout",
     "output_type": "stream",
     "text": [
      "1\n",
      "2\n",
      "3\n"
     ]
    }
   ],
   "source": [
    "import numpy as np\n",
    "\n",
    "#  Iterating 1-D Arrays\n",
    "arr = ([1,2,3])\n",
    "for x in arr :\n",
    " print(x)"
   ]
  },
  {
   "cell_type": "code",
   "execution_count": 4,
   "id": "1e3e6747",
   "metadata": {},
   "outputs": [
    {
     "name": "stdout",
     "output_type": "stream",
     "text": [
      "[1 2 3]\n",
      "[4 5 6]\n"
     ]
    }
   ],
   "source": [
    "#  Iterating 2-D Arrays\n",
    "\n",
    "arr = np.array([[1,2,3,], [4,5,6]])\n",
    "for x in arr :\n",
    "    print(x)"
   ]
  },
  {
   "cell_type": "code",
   "execution_count": 5,
   "id": "f85422c8",
   "metadata": {},
   "outputs": [
    {
     "name": "stdout",
     "output_type": "stream",
     "text": [
      "1\n",
      "2\n",
      "3\n",
      "4\n",
      "5\n",
      "6\n"
     ]
    }
   ],
   "source": [
    "#  Iterate on each scalar element of the 2-D array:\n",
    "\n",
    "arr = np.array([[1,2,3], [4,5,6]])\n",
    "for x in arr :\n",
    "    for y in x :\n",
    "        print(y)"
   ]
  },
  {
   "cell_type": "markdown",
   "id": "09c3ddf0",
   "metadata": {},
   "source": [
    "## Iterating 3-D Arrays\n",
    "### In a 3-D array it will go through all the 2-D arrays."
   ]
  },
  {
   "cell_type": "code",
   "execution_count": 13,
   "id": "aa5eae8f",
   "metadata": {},
   "outputs": [
    {
     "name": "stdout",
     "output_type": "stream",
     "text": [
      "x represents the 2D array\n",
      "[[1 2 3]\n",
      " [4 5 6]]\n",
      "x represents the 2D array\n",
      "[[ 7  8  9]\n",
      " [10 11 12]]\n"
     ]
    }
   ],
   "source": [
    "#  Iterate on the elements of the following 3-D array:\n",
    "\n",
    "arr = np.array([[[1,2,3], [4,5,6]], [[7,8,9], [10,11,12]]])\n",
    "for x in arr :\n",
    " print(\"x represents the 2D array\")\n",
    " print(x)"
   ]
  },
  {
   "cell_type": "code",
   "execution_count": 17,
   "id": "b2f69772",
   "metadata": {},
   "outputs": [
    {
     "name": "stdout",
     "output_type": "stream",
     "text": [
      "1\n",
      "2\n",
      "3\n",
      "4\n",
      "5\n",
      "6\n",
      "7\n",
      "8\n",
      "9\n",
      "10\n",
      "11\n",
      "12\n"
     ]
    }
   ],
   "source": [
    "arr = np.array([[[1,2,3], [4,5,6]], [[7,8,9], [10,11,12]]])\n",
    "for x in arr :\n",
    "    for y in x :\n",
    "        for z in y :\n",
    "            print(z)"
   ]
  }
 ],
 "metadata": {
  "kernelspec": {
   "display_name": "env",
   "language": "python",
   "name": "python3"
  },
  "language_info": {
   "codemirror_mode": {
    "name": "ipython",
    "version": 3
   },
   "file_extension": ".py",
   "mimetype": "text/x-python",
   "name": "python",
   "nbconvert_exporter": "python",
   "pygments_lexer": "ipython3",
   "version": "3.10.0"
  }
 },
 "nbformat": 4,
 "nbformat_minor": 5
}
